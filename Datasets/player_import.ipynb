{
 "cells": [
  {
   "cell_type": "code",
   "execution_count": 1,
   "metadata": {},
   "outputs": [
    {
     "data": {
      "text/plain": [
       "array([[  0,  20,  37, -17,  -5,  16,  39,  10, -52, -23],\n",
       "       [ 10,   0,  15, -10, -12,  30,  35,  10, -50, -19],\n",
       "       [ 41,   4,   0,  22, -30,  46,  53,  25, -30, -27],\n",
       "       [ 19,  18,   5,   0,  20,  32,  24,  20, -20, -17],\n",
       "       [ 52,  49, -25,  16,   0,  42,  62,  56, -40, -35],\n",
       "       [ 13,  25, -10,  18,  42,   0,  45,  25, -62, -59],\n",
       "       [ 22,  20,  53,  25,  42,  35,   0,   5,  20,  25],\n",
       "       [ 20,  18,  47,  37,  42,  20,  10,   0,  24,  30],\n",
       "       [ 65,  63,  49,  17,  40, -15, -20, -22,   0, -20],\n",
       "       [ 60,  58,  44,  12,  37, -17, -23, -26, -20,   0]], dtype=int64)"
      ]
     },
     "execution_count": 1,
     "metadata": {},
     "output_type": "execute_result"
    }
   ],
   "source": [
    "import pandas as pd\n",
    "\n",
    "df = pd.read_excel(\"Geo_data_player.xlsx\", header=None)\n",
    "\n",
    "player_dataset = df.to_numpy()\n",
    "player_dataset"
   ]
  }
 ],
 "metadata": {
  "kernelspec": {
   "display_name": "Python 3",
   "language": "python",
   "name": "python3"
  },
  "language_info": {
   "codemirror_mode": {
    "name": "ipython",
    "version": 3
   },
   "file_extension": ".py",
   "mimetype": "text/x-python",
   "name": "python",
   "nbconvert_exporter": "python",
   "pygments_lexer": "ipython3",
   "version": "3.12.3"
  }
 },
 "nbformat": 4,
 "nbformat_minor": 2
}
